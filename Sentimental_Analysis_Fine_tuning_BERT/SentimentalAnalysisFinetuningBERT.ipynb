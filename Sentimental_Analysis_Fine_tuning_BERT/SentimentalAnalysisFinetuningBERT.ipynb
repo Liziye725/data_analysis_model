{
 "cells": [
  {
   "cell_type": "code",
   "execution_count": null,
   "metadata": {},
   "outputs": [],
   "source": [
    "import pandas as pd\n",
    "import numpy as np\n",
    "df = pd.read_csv('../data/sentimental.csv')\n",
    "\n",
    "from sklearn.model_selection import train_test_split\n",
    "train_text, temp_text, train_labels, temp_labels = train_test_split(df['sentence'],  df['label'],\n",
    "                                                                    random_state = 2021, test_size = 0.3, stratify = df['label'])\n",
    "val_text, test_text, val_labels, test_labels = train_test_split(temp_text, temp_labels, random_state=2021, test_size=0.5\n",
    "                                                                stratify = temp_labels)"
   ]
  },
  {
   "cell_type": "code",
   "execution_count": null,
   "metadata": {},
   "outputs": [],
   "source": [
    "bert = AutoModel.from_pretrained('bert-base-uncased')\n",
    "tokenizer = BertTokenizerFast.from_pretrained('bert-base-uncased')"
   ]
  },
  {
   "cell_type": "code",
   "execution_count": null,
   "metadata": {},
   "outputs": [],
   "source": [
    "train_lens = [len(i.split()) for i in train_text]\n",
    "plt.hist(train_lens)"
   ]
  },
  {
   "cell_type": "code",
   "execution_count": null,
   "metadata": {},
   "outputs": [],
   "source": [
    "tokens_train = tokenizer.batch_encode_plus(\n",
    "    train_test.tolist(),\n",
    "    max_length = pad_len,\n",
    "    pad_to_max_length = True,\n",
    "    truncaton = True\n",
    ")\n",
    "tokens_val = tokenizer.batch_encode_plus(\n",
    "    val_text.tolist(), \n",
    "    max_length = pad_len,\n",
    "    pad_to_max_length = True,\n",
    "    trunction = True\n",
    ")\n",
    "tokens_test = tokenizer.batch_encode_plus(\n",
    "    test_text.tolist(),\n",
    "    max_length = pad_len,\n",
    "    pad_to_max_length = True,\n",
    "    trunction = True\n",
    ")"
   ]
  },
  {
   "cell_type": "code",
   "execution_count": null,
   "metadata": {},
   "outputs": [],
   "source": []
  }
 ],
 "metadata": {
  "language_info": {
   "name": "python"
  }
 },
 "nbformat": 4,
 "nbformat_minor": 2
}
