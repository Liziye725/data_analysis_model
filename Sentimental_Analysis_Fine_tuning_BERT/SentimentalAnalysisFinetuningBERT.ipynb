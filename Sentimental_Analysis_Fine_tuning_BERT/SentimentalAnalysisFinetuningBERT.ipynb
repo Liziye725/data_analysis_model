{
 "cells": [
  {
   "cell_type": "code",
   "execution_count": null,
   "metadata": {},
   "outputs": [],
   "source": [
    "import pandas as pd\n",
    "import numpy as np\n",
    "df = pd.read_csv('../data/sentimental.csv')\n",
    "\n",
    "from sklearn.model_selection import train_test_split\n",
    "train_text, temp_text, train_labels, temp_labels = train_test_split(df['sentence'],  df['label'],\n",
    "                                                                    random_state = 2021, test_size = 0.3, stratify = df['label'])\n"
   ]
  }
 ],
 "metadata": {
  "language_info": {
   "name": "python"
  }
 },
 "nbformat": 4,
 "nbformat_minor": 2
}
